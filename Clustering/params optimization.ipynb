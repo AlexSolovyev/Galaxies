{
 "cells": [
  {
   "cell_type": "code",
   "execution_count": 1,
   "metadata": {},
   "outputs": [],
   "source": [
    "#!pip install bayesian-optimization"
   ]
  },
  {
   "cell_type": "code",
   "execution_count": 2,
   "metadata": {},
   "outputs": [],
   "source": [
    "import numpy as np\n",
    "import pandas as pd\n",
    "from matplotlib import pyplot as plt\n",
    "\n",
    "from tqdm import tqdm\n",
    "\n",
    "import sklearn\n",
    "import hdbscan\n",
    "from sklearn.preprocessing import StandardScaler\n",
    "\n",
    "import astropy\n",
    "from astropy.io import fits\n",
    "\n",
    "from bayes_opt import BayesianOptimization"
   ]
  },
  {
   "cell_type": "code",
   "execution_count": 3,
   "metadata": {},
   "outputs": [],
   "source": [
    "hdul = fits.open(\n",
    "    'http://gal-03.sai.msu.ru/~vtoptun/photometry/rcsed_v2_clean.fits',\n",
    "    memmap=astropy.io.fits.Conf.use_memmap.defaultvalue,\n",
    "    lazy_load_hdus=True,\n",
    ")\n",
    "\n",
    "y = pd.read_csv('rcsed_iGrID.csv')"
   ]
  },
  {
   "cell_type": "code",
   "execution_count": 4,
   "metadata": {},
   "outputs": [],
   "source": [
    "sdss_indx = list(y[~y.iGrID.isna()].index)\n",
    "y = y.loc[sdss_indx,:].to_numpy().flatten()\n",
    "sdss_labels = pd.Series(y)\n",
    "\n",
    "cols, data = hdul[1].columns, hdul[1].data[sdss_indx]"
   ]
  },
  {
   "cell_type": "code",
   "execution_count": 5,
   "metadata": {},
   "outputs": [],
   "source": [
    "hdul.close()\n",
    "del hdul"
   ]
  },
  {
   "cell_type": "code",
   "execution_count": 6,
   "metadata": {},
   "outputs": [],
   "source": [
    "DATA = pd.DataFrame(np.array(data).byteswap().newbyteorder()) "
   ]
  },
  {
   "cell_type": "code",
   "execution_count": 7,
   "metadata": {},
   "outputs": [],
   "source": [
    "del data"
   ]
  },
  {
   "cell_type": "code",
   "execution_count": 8,
   "metadata": {},
   "outputs": [],
   "source": [
    "DATA.drop(labels=['ind'], axis = 1, inplace=True)"
   ]
  },
  {
   "cell_type": "code",
   "execution_count": 9,
   "metadata": {},
   "outputs": [],
   "source": [
    "DATA = DATA.select_dtypes(include=['float32', 'float64']).apply(pd.to_numeric,downcast='float')\n",
    "x = np.array(DATA[['ra','dec','z']])"
   ]
  },
  {
   "cell_type": "code",
   "execution_count": 10,
   "metadata": {},
   "outputs": [
    {
     "data": {
      "text/plain": [
       "array([[-2.768543  , -1.2256297 ,  0.3643035 ],\n",
       "       [-2.7685425 , -1.2370087 ,  0.7694353 ],\n",
       "       [-2.7685304 , -0.17891905,  0.11459479],\n",
       "       ...,\n",
       "       [ 2.6186478 , -0.43299922,  0.79173905],\n",
       "       [ 2.61867   , -1.2514474 ,  1.01964   ],\n",
       "       [ 2.618682  , -1.860834  ,  1.0000335 ]], dtype=float32)"
      ]
     },
     "metadata": {},
     "output_type": "display_data"
    }
   ],
   "source": [
    "scaler = StandardScaler()\n",
    "x = scaler.fit_transform(x)\n",
    "display(x)"
   ]
  },
  {
   "cell_type": "code",
   "execution_count": 11,
   "metadata": {},
   "outputs": [
    {
     "data": {
      "text/plain": [
       "HDBSCAN(algorithm='best', allow_single_cluster=False, alpha=1.0,\n",
       "        approx_min_span_tree=True, cluster_selection_epsilon=0.0,\n",
       "        cluster_selection_method='eom', core_dist_n_jobs=4,\n",
       "        gen_min_span_tree=False, leaf_size=40,\n",
       "        match_reference_implementation=False, memory=Memory(location=None),\n",
       "        metric='euclidean', min_cluster_size=5, min_samples=None, p=None,\n",
       "        prediction_data=False)"
      ]
     },
     "execution_count": 11,
     "metadata": {},
     "output_type": "execute_result"
    }
   ],
   "source": [
    "hdbscan.hdbscan_.HDBSCAN()"
   ]
  },
  {
   "cell_type": "code",
   "execution_count": 14,
   "metadata": {},
   "outputs": [
    {
     "name": "stdout",
     "output_type": "stream",
     "text": [
      "min_cluster_size : 2 , leaf_size : 10\n",
      "FMS =  0.19141 ARS =  0.17447 NMI =  0.94309\n",
      "min_cluster_size : 2 , leaf_size : 40\n",
      "FMS =  0.19064 ARS =  0.17171 NMI =  0.94373\n",
      "min_cluster_size : 2 , leaf_size : 90\n",
      "FMS =  0.19243 ARS =  0.1737 NMI =  0.94369\n",
      "min_cluster_size : 5 , leaf_size : 10\n",
      "FMS =  0.28631 ARS =  0.2587 NMI =  0.92942\n",
      "min_cluster_size : 5 , leaf_size : 40\n",
      "FMS =  0.33041 ARS =  0.3134 NMI =  0.93437\n",
      "min_cluster_size : 5 , leaf_size : 90\n",
      "FMS =  0.33066 ARS =  0.31408 NMI =  0.9345\n",
      "min_cluster_size : 10 , leaf_size : 10\n",
      "FMS =  0.00636 ARS =  2e-05 NMI =  0.14922\n",
      "min_cluster_size : 10 , leaf_size : 40\n",
      "FMS =  0.06021 ARS =  0.01137 NMI =  0.90723\n",
      "min_cluster_size : 10 , leaf_size : 90\n",
      "FMS =  0.05973 ARS =  0.01128 NMI =  0.9075\n",
      "min_cluster_size : 25 , leaf_size : 10\n",
      "FMS =  0.00642 ARS =  2e-05 NMI =  0.07926\n",
      "min_cluster_size : 25 , leaf_size : 40\n",
      "FMS =  0.00641 ARS =  2e-05 NMI =  0.07746\n",
      "min_cluster_size : 25 , leaf_size : 90\n",
      "FMS =  0.00641 ARS =  2e-05 NMI =  0.07746\n"
     ]
    }
   ],
   "source": [
    "from sklearn.model_selection import GridSearchCV\n",
    "\n",
    "grid_values = {\n",
    "    'min_cluster_size': [2, 5, 10, 25], \n",
    "    'leaf_size': [10, 40, 90],\n",
    "}\n",
    "\n",
    "for f_param in grid_values['min_cluster_size']:\n",
    "    for s_param in grid_values['leaf_size']:\n",
    "        print('min_cluster_size :', f_param, ', leaf_size :', s_param)\n",
    "        hdbScan = hdbscan.hdbscan_.HDBSCAN(\n",
    "            min_cluster_size=f_param,\n",
    "            leaf_size=s_param,\n",
    "            core_dist_n_jobs=16,     \n",
    "        ).fit(x)\n",
    "        rcsed_labels = hdbScan.labels_\n",
    "        for i in range(len(rcsed_labels)):\n",
    "            if rcsed_labels[i]==-1:\n",
    "                rcsed_labels[i]=i+5000000\n",
    "\n",
    "        true = y\n",
    "        pred = rcsed_labels\n",
    "\n",
    "        fms = round(sklearn.metrics.fowlkes_mallows_score(true, pred),5)\n",
    "        ars = round(sklearn.metrics.adjusted_rand_score(true, pred),5)\n",
    "        nmi = round(sklearn.metrics.normalized_mutual_info_score(true, pred),5)\n",
    "\n",
    "        print('FMS = ', fms, 'ARS = ', ars, 'NMI = ', nmi)"
   ]
  },
  {
   "cell_type": "code",
   "execution_count": 16,
   "metadata": {},
   "outputs": [
    {
     "name": "stdout",
     "output_type": "stream",
     "text": [
      "min_samples : None , leaf_size : 50\n",
      "FMS =  0.33041 ARS =  0.3134 NMI =  0.93437\n",
      "min_samples : None , leaf_size : 70\n",
      "FMS =  0.33041 ARS =  0.3134 NMI =  0.93437\n",
      "min_samples : None , leaf_size : 90\n",
      "FMS =  0.33066 ARS =  0.31408 NMI =  0.9345\n",
      "min_samples : 4 , leaf_size : 50\n",
      "FMS =  0.26852 ARS =  0.26571 NMI =  0.93506\n",
      "min_samples : 4 , leaf_size : 70\n",
      "FMS =  0.26852 ARS =  0.26571 NMI =  0.93506\n",
      "min_samples : 4 , leaf_size : 90\n",
      "FMS =  0.26921 ARS =  0.26638 NMI =  0.9352\n",
      "min_samples : 9 , leaf_size : 50\n",
      "FMS =  0.33346 ARS =  0.28087 NMI =  0.93237\n",
      "min_samples : 9 , leaf_size : 70\n",
      "FMS =  0.33346 ARS =  0.28087 NMI =  0.93237\n",
      "min_samples : 9 , leaf_size : 90\n",
      "FMS =  0.35596 ARS =  0.30063 NMI =  0.9329\n",
      "min_samples : 18 , leaf_size : 50\n",
      "FMS =  0.00641 ARS =  2e-05 NMI =  0.07744\n",
      "min_samples : 18 , leaf_size : 70\n",
      "FMS =  0.00641 ARS =  2e-05 NMI =  0.07744\n",
      "min_samples : 18 , leaf_size : 90\n",
      "FMS =  0.00641 ARS =  2e-05 NMI =  0.07744\n"
     ]
    }
   ],
   "source": [
    "from sklearn.model_selection import GridSearchCV\n",
    "\n",
    "grid_values = {\n",
    "    'min_samples': [None, 4, 9, 18], \n",
    "    'leaf_size': [50, 70, 90],\n",
    "}\n",
    "\n",
    "for f_param in grid_values['min_samples']:\n",
    "    for s_param in grid_values['leaf_size']:\n",
    "        print('min_samples :', f_param, ', leaf_size :', s_param)\n",
    "        hdbScan = hdbscan.hdbscan_.HDBSCAN(\n",
    "            min_samples=f_param,\n",
    "            leaf_size=s_param,\n",
    "            core_dist_n_jobs=16, \n",
    "        ).fit(x)\n",
    "        rcsed_labels = hdbScan.labels_\n",
    "        for i in range(len(rcsed_labels)):\n",
    "            if rcsed_labels[i]==-1:\n",
    "                rcsed_labels[i]=i+5000000\n",
    "\n",
    "        true = y\n",
    "        pred = rcsed_labels\n",
    "\n",
    "        fms = round(sklearn.metrics.fowlkes_mallows_score(true, pred),5)\n",
    "        ars = round(sklearn.metrics.adjusted_rand_score(true, pred),5)\n",
    "        nmi = round(sklearn.metrics.normalized_mutual_info_score(true, pred),5)\n",
    "\n",
    "        print('FMS = ', fms, 'ARS = ', ars, 'NMI = ', nmi)"
   ]
  },
  {
   "cell_type": "code",
   "execution_count": 17,
   "metadata": {},
   "outputs": [
    {
     "name": "stdout",
     "output_type": "stream",
     "text": [
      "min_samples : 8 , leaf_size : 100\n",
      "FMS =  0.28218 ARS =  0.25404 NMI =  0.93352\n",
      "min_samples : 8 , leaf_size : 120\n",
      "FMS =  0.28218 ARS =  0.25404 NMI =  0.93352\n",
      "min_samples : 8 , leaf_size : 150\n",
      "FMS =  0.30419 ARS =  0.27335 NMI =  0.93386\n",
      "min_samples : 9 , leaf_size : 100\n",
      "FMS =  0.35596 ARS =  0.30063 NMI =  0.9329\n",
      "min_samples : 9 , leaf_size : 120\n",
      "FMS =  0.35596 ARS =  0.30063 NMI =  0.9329\n",
      "min_samples : 9 , leaf_size : 150\n",
      "FMS =  0.33832 ARS =  0.28784 NMI =  0.93293\n",
      "min_samples : 10 , leaf_size : 100\n",
      "FMS =  0.31862 ARS =  0.26814 NMI =  0.93276\n",
      "min_samples : 10 , leaf_size : 120\n",
      "FMS =  0.31862 ARS =  0.26814 NMI =  0.93276\n",
      "min_samples : 10 , leaf_size : 150\n",
      "FMS =  0.34168 ARS =  0.28565 NMI =  0.93291\n"
     ]
    }
   ],
   "source": [
    "from sklearn.model_selection import GridSearchCV\n",
    "\n",
    "grid_values = {\n",
    "    'min_samples': [8, 9, 10], \n",
    "    'leaf_size': [100, 120, 150],\n",
    "}\n",
    "\n",
    "for f_param in grid_values['min_samples']:\n",
    "    for s_param in grid_values['leaf_size']:\n",
    "        print('min_samples :', f_param, ', leaf_size :', s_param)\n",
    "        hdbScan = hdbscan.hdbscan_.HDBSCAN(\n",
    "            min_samples=f_param,\n",
    "            leaf_size=s_param,\n",
    "            core_dist_n_jobs=16,\n",
    "        ).fit(x)\n",
    "        rcsed_labels = hdbScan.labels_\n",
    "        for i in range(len(rcsed_labels)):\n",
    "            if rcsed_labels[i]==-1:\n",
    "                rcsed_labels[i]=i+5000000\n",
    "\n",
    "        true = y\n",
    "        pred = rcsed_labels\n",
    "\n",
    "        fms = round(sklearn.metrics.fowlkes_mallows_score(true, pred),5)\n",
    "        ars = round(sklearn.metrics.adjusted_rand_score(true, pred),5)\n",
    "        nmi = round(sklearn.metrics.normalized_mutual_info_score(true, pred),5)\n",
    "\n",
    "        print('FMS = ', fms, 'ARS = ', ars, 'NMI = ', nmi)"
   ]
  },
  {
   "cell_type": "code",
   "execution_count": 19,
   "metadata": {},
   "outputs": [
    {
     "name": "stdout",
     "output_type": "stream",
     "text": [
      "FMS =  0.35596\n",
      "ARS =  0.30063\n",
      "NMI =  0.9329\n"
     ]
    }
   ],
   "source": [
    "hdbScan = hdbscan.hdbscan_.HDBSCAN(\n",
    "    min_samples=9,\n",
    "    leaf_size=90,\n",
    "    core_dist_n_jobs=16, \n",
    ").fit(x)\n",
    "\n",
    "rcsed_labels = hdbScan.labels_\n",
    "for i in range(len(rcsed_labels)):\n",
    "    if rcsed_labels[i]==-1:\n",
    "        rcsed_labels[i]=i+5000000\n",
    "\n",
    "true = y\n",
    "pred = rcsed_labels\n",
    "\n",
    "fms = round(sklearn.metrics.fowlkes_mallows_score(true, pred),5)\n",
    "ars = round(sklearn.metrics.adjusted_rand_score(true, pred),5)\n",
    "nmi = round(sklearn.metrics.normalized_mutual_info_score(true, pred),5)\n",
    "\n",
    "print('FMS = ', fms)\n",
    "print('ARS = ', ars)\n",
    "print('NMI = ', nmi)"
   ]
  },
  {
   "cell_type": "code",
   "execution_count": 22,
   "metadata": {},
   "outputs": [],
   "source": [
    "def clustering(cluster_selection_epsilon, alpha):\n",
    "    hdbScan = hdbscan.hdbscan_.HDBSCAN(\n",
    "        min_samples=9,\n",
    "        leaf_size=90,\n",
    "        core_dist_n_jobs=16,\n",
    "        allow_single_cluster=True,\n",
    "        alpha=alpha,\n",
    "        cluster_selection_epsilon=float(cluster_selection_epsilon),\n",
    "    ).fit(x)\n",
    "    rcsed_labels = hdbScan.labels_\n",
    "    for i in range(len(rcsed_labels)):\n",
    "        if rcsed_labels[i]==-1:\n",
    "            rcsed_labels[i]=i+5000000\n",
    "    return round(sklearn.metrics.fowlkes_mallows_score(rcsed_labels, y), 5)    \n",
    "\n",
    "pbounds = {\n",
    "    'cluster_selection_epsilon': (0., 10.),\n",
    "    'alpha': (0.1, 10.),\n",
    "}\n",
    "\n",
    "optimizer = BayesianOptimization(\n",
    "    f=clustering,\n",
    "    pbounds=pbounds,\n",
    "    random_state=42,\n",
    ")"
   ]
  },
  {
   "cell_type": "code",
   "execution_count": 23,
   "metadata": {},
   "outputs": [
    {
     "name": "stdout",
     "output_type": "stream",
     "text": [
      "|   iter    |  target   |   alpha   | cluste... |\n",
      "-------------------------------------------------\n",
      "| \u001b[0m 1       \u001b[0m | \u001b[0m 0.00563 \u001b[0m | \u001b[0m 3.808   \u001b[0m | \u001b[0m 9.507   \u001b[0m |\n",
      "| \u001b[0m 2       \u001b[0m | \u001b[0m 0.00563 \u001b[0m | \u001b[0m 7.347   \u001b[0m | \u001b[0m 5.987   \u001b[0m |\n",
      "| \u001b[0m 3       \u001b[0m | \u001b[0m 0.00563 \u001b[0m | \u001b[0m 1.645   \u001b[0m | \u001b[0m 1.56    \u001b[0m |\n",
      "| \u001b[95m 4       \u001b[0m | \u001b[95m 0.01667 \u001b[0m | \u001b[95m 9.982   \u001b[0m | \u001b[95m 0.03505 \u001b[0m |\n",
      "| \u001b[95m 5       \u001b[0m | \u001b[95m 0.03842 \u001b[0m | \u001b[95m 5.898   \u001b[0m | \u001b[95m 0.03098 \u001b[0m |\n",
      "| \u001b[0m 6       \u001b[0m | \u001b[0m 0.00563 \u001b[0m | \u001b[0m 10.0    \u001b[0m | \u001b[0m 10.0    \u001b[0m |\n",
      "| \u001b[95m 7       \u001b[0m | \u001b[95m 0.356   \u001b[0m | \u001b[95m 4.73    \u001b[0m | \u001b[95m 0.007387\u001b[0m |\n",
      "| \u001b[0m 8       \u001b[0m | \u001b[0m 0.00563 \u001b[0m | \u001b[0m 0.1     \u001b[0m | \u001b[0m 10.0    \u001b[0m |\n",
      "| \u001b[0m 9       \u001b[0m | \u001b[0m 0.00563 \u001b[0m | \u001b[0m 9.992   \u001b[0m | \u001b[0m 4.418   \u001b[0m |\n",
      "| \u001b[0m 10      \u001b[0m | \u001b[0m 0.356   \u001b[0m | \u001b[0m 0.1     \u001b[0m | \u001b[0m 0.0     \u001b[0m |\n",
      "| \u001b[0m 11      \u001b[0m | \u001b[0m 0.00563 \u001b[0m | \u001b[0m 0.1     \u001b[0m | \u001b[0m 6.295   \u001b[0m |\n",
      "| \u001b[0m 12      \u001b[0m | \u001b[0m 0.356   \u001b[0m | \u001b[0m 2.63    \u001b[0m | \u001b[0m 4.779e-0\u001b[0m |\n",
      "| \u001b[0m 13      \u001b[0m | \u001b[0m 0.00563 \u001b[0m | \u001b[0m 6.94    \u001b[0m | \u001b[0m 10.0    \u001b[0m |\n",
      "| \u001b[0m 14      \u001b[0m | \u001b[0m 0.00563 \u001b[0m | \u001b[0m 3.882   \u001b[0m | \u001b[0m 5.382   \u001b[0m |\n",
      "| \u001b[0m 15      \u001b[0m | \u001b[0m 0.00563 \u001b[0m | \u001b[0m 10.0    \u001b[0m | \u001b[0m 7.335   \u001b[0m |\n",
      "| \u001b[0m 16      \u001b[0m | \u001b[0m 0.00563 \u001b[0m | \u001b[0m 4.5     \u001b[0m | \u001b[0m 1.723   \u001b[0m |\n",
      "| \u001b[0m 17      \u001b[0m | \u001b[0m 0.356   \u001b[0m | \u001b[0m 3.743   \u001b[0m | \u001b[0m 0.0     \u001b[0m |\n",
      "| \u001b[0m 18      \u001b[0m | \u001b[0m 0.00563 \u001b[0m | \u001b[0m 2.019   \u001b[0m | \u001b[0m 7.732   \u001b[0m |\n",
      "| \u001b[0m 19      \u001b[0m | \u001b[0m 0.00563 \u001b[0m | \u001b[0m 5.447   \u001b[0m | \u001b[0m 7.684   \u001b[0m |\n",
      "| \u001b[0m 20      \u001b[0m | \u001b[0m 0.356   \u001b[0m | \u001b[0m 1.115   \u001b[0m | \u001b[0m 0.002668\u001b[0m |\n",
      "| \u001b[0m 21      \u001b[0m | \u001b[0m 0.00563 \u001b[0m | \u001b[0m 0.1     \u001b[0m | \u001b[0m 3.615   \u001b[0m |\n",
      "| \u001b[0m 22      \u001b[0m | \u001b[0m 0.00563 \u001b[0m | \u001b[0m 10.0    \u001b[0m | \u001b[0m 2.054   \u001b[0m |\n",
      "| \u001b[0m 23      \u001b[0m | \u001b[0m 0.117   \u001b[0m | \u001b[0m 2.123   \u001b[0m | \u001b[0m 0.02745 \u001b[0m |\n",
      "| \u001b[0m 24      \u001b[0m | \u001b[0m 0.00563 \u001b[0m | \u001b[0m 7.179   \u001b[0m | \u001b[0m 3.19    \u001b[0m |\n",
      "| \u001b[0m 25      \u001b[0m | \u001b[0m 0.00563 \u001b[0m | \u001b[0m 2.113   \u001b[0m | \u001b[0m 4.239   \u001b[0m |\n",
      "| \u001b[0m 26      \u001b[0m | \u001b[0m 0.00563 \u001b[0m | \u001b[0m 8.065   \u001b[0m | \u001b[0m 8.25    \u001b[0m |\n",
      "| \u001b[0m 27      \u001b[0m | \u001b[0m 0.00563 \u001b[0m | \u001b[0m 1.893   \u001b[0m | \u001b[0m 9.992   \u001b[0m |\n",
      "| \u001b[0m 28      \u001b[0m | \u001b[0m 0.00563 \u001b[0m | \u001b[0m 5.478   \u001b[0m | \u001b[0m 4.218   \u001b[0m |\n",
      "=================================================\n"
     ]
    }
   ],
   "source": [
    "optimizer.maximize(\n",
    "    init_points=3,\n",
    "    n_iter=25,\n",
    ")"
   ]
  },
  {
   "cell_type": "code",
   "execution_count": 24,
   "metadata": {},
   "outputs": [
    {
     "name": "stdout",
     "output_type": "stream",
     "text": [
      "{'target': 0.35596, 'params': {'alpha': 4.730125524223726, 'cluster_selection_epsilon': 0.007387055240245521}}\n"
     ]
    }
   ],
   "source": [
    "print(optimizer.max)"
   ]
  },
  {
   "cell_type": "code",
   "execution_count": 25,
   "metadata": {},
   "outputs": [
    {
     "name": "stdout",
     "output_type": "stream",
     "text": [
      "FMS =  0.35596\n",
      "ARS =  0.30063\n",
      "NMI =  0.9329\n"
     ]
    }
   ],
   "source": [
    "hdbScan = hdbscan.hdbscan_.HDBSCAN(\n",
    "    min_samples=9,\n",
    "    leaf_size=90,\n",
    "    core_dist_n_jobs=16,\n",
    "    alpha=4.730125524223726,\n",
    "    cluster_selection_epsilon=0.007387055240245521,\n",
    ").fit(x)\n",
    "\n",
    "rcsed_labels = hdbScan.labels_\n",
    "for i in range(len(rcsed_labels)):\n",
    "    if rcsed_labels[i]==-1:\n",
    "        rcsed_labels[i]=i+5000000\n",
    "\n",
    "true = y\n",
    "pred = rcsed_labels\n",
    "\n",
    "fms = round(sklearn.metrics.fowlkes_mallows_score(true, pred),5)\n",
    "ars = round(sklearn.metrics.adjusted_rand_score(true, pred),5)\n",
    "nmi = round(sklearn.metrics.normalized_mutual_info_score(true, pred),5)\n",
    "\n",
    "print('FMS = ', fms)\n",
    "print('ARS = ', ars)\n",
    "print('NMI = ', nmi)"
   ]
  }
 ],
 "metadata": {
  "kernelspec": {
   "display_name": "Python 3",
   "language": "python",
   "name": "python3"
  },
  "language_info": {
   "codemirror_mode": {
    "name": "ipython",
    "version": 3
   },
   "file_extension": ".py",
   "mimetype": "text/x-python",
   "name": "python",
   "nbconvert_exporter": "python",
   "pygments_lexer": "ipython3",
   "version": "3.6.9"
  }
 },
 "nbformat": 4,
 "nbformat_minor": 2
}
