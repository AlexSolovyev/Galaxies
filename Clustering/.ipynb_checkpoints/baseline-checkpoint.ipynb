{
 "cells": [
  {
   "cell_type": "code",
   "execution_count": 1,
   "metadata": {},
   "outputs": [],
   "source": [
    "import numpy as np\n",
    "import pandas as pd\n",
    "\n",
    "from tqdm import tqdm\n",
    "\n",
    "import astropy\n",
    "from astropy.io import fits\n",
    "\n",
    "import sklearn\n",
    "from sklearn.preprocessing import StandardScaler, MinMaxScaler\n",
    "\n",
    "import hdbscan"
   ]
  },
  {
   "cell_type": "code",
   "execution_count": 2,
   "metadata": {},
   "outputs": [],
   "source": [
    "hdul = fits.open(\n",
    "    'http://gal-03.sai.msu.ru/~vtoptun/photometry/rcsed_v2_clean.fits',\n",
    "    memmap=astropy.io.fits.Conf.use_memmap.defaultvalue,\n",
    "    lazy_load_hdus=True,\n",
    ")\n",
    "\n",
    "y = pd.read_csv('rcsed_iGrID.csv')"
   ]
  },
  {
   "cell_type": "code",
   "execution_count": 3,
   "metadata": {},
   "outputs": [],
   "source": [
    "sdss_indx = list(y[~y.iGrID.isna()].index)\n",
    "y = y.loc[sdss_indx,:].to_numpy().flatten()\n",
    "sdss_labels = pd.Series(y)\n",
    "\n",
    "cols, data = hdul[1].columns, hdul[1].data[sdss_indx]"
   ]
  },
  {
   "cell_type": "code",
   "execution_count": 4,
   "metadata": {},
   "outputs": [],
   "source": [
    "hdul.close()\n",
    "del hdul"
   ]
  },
  {
   "cell_type": "code",
   "execution_count": 5,
   "metadata": {},
   "outputs": [],
   "source": [
    "DATA = pd.DataFrame(np.array(data).byteswap().newbyteorder()) "
   ]
  },
  {
   "cell_type": "code",
   "execution_count": 6,
   "metadata": {},
   "outputs": [],
   "source": [
    "del data"
   ]
  },
  {
   "cell_type": "code",
   "execution_count": 7,
   "metadata": {},
   "outputs": [],
   "source": [
    "DATA = DATA.select_dtypes(include=['float32', 'float64']).apply(pd.to_numeric,downcast='float')\n",
    "x = np.array(DATA[['ra','dec','z']])\n",
    "scaler = StandardScaler()\n",
    "x = scaler.fit_transform(x)"
   ]
  },
  {
   "cell_type": "code",
   "execution_count": 8,
   "metadata": {},
   "outputs": [
    {
     "name": "stdout",
     "output_type": "stream",
     "text": [
      "FMS =  0.33041\n",
      "ARS =  0.3134\n",
      "NMI =  0.93437\n"
     ]
    }
   ],
   "source": [
    "hdbScan = hdbscan.hdbscan_.HDBSCAN().fit(x)\n",
    "\n",
    "rcsed_labels = hdbScan.labels_\n",
    "for i in range(len(rcsed_labels)):\n",
    "    if rcsed_labels[i]==-1:\n",
    "        rcsed_labels[i]=i+5000000\n",
    "\n",
    "true = y\n",
    "pred = rcsed_labels\n",
    "\n",
    "fms = round(sklearn.metrics.fowlkes_mallows_score(true, pred),5)\n",
    "ars = round(sklearn.metrics.adjusted_rand_score(true, pred),5)\n",
    "nmi = round(sklearn.metrics.normalized_mutual_info_score(true, pred),5)\n",
    "\n",
    "print('FMS = ', fms)\n",
    "print('ARS = ', ars)\n",
    "print('NMI = ', nmi)"
   ]
  }
 ],
 "metadata": {
  "kernelspec": {
   "display_name": "Python 3",
   "language": "python",
   "name": "python3"
  },
  "language_info": {
   "codemirror_mode": {
    "name": "ipython",
    "version": 3
   },
   "file_extension": ".py",
   "mimetype": "text/x-python",
   "name": "python",
   "nbconvert_exporter": "python",
   "pygments_lexer": "ipython3",
   "version": "3.6.9"
  }
 },
 "nbformat": 4,
 "nbformat_minor": 2
}
