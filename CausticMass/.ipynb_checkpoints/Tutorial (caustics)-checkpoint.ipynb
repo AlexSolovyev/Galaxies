{
 "cells": [
  {
   "cell_type": "markdown",
   "metadata": {},
   "source": [
    "Установить:\n",
    "    1. Scipy\n",
    "    2. Matplotlib\n",
    "    3. Numpy\n",
    "    4. cosmolopy\n",
    "    5. astLib"
   ]
  },
  {
   "cell_type": "code",
   "execution_count": 1,
   "metadata": {},
   "outputs": [
    {
     "name": "stdout",
     "output_type": "stream",
     "text": [
      "astStats.py\t    dist\t\t       setup.py\r\n",
      "build\t\t    __pycache__\t\t       Tutorial (caustics).ipynb\r\n",
      "causticpy\t    README.md\r\n",
      "causticpy.egg-info  RunningtheCausticCode.pdf\r\n"
     ]
    }
   ],
   "source": [
    "!ls ."
   ]
  },
  {
   "cell_type": "code",
   "execution_count": 2,
   "metadata": {},
   "outputs": [],
   "source": [
    "#!pip install cosmolopy\n",
    "#!pip install astLib\n",
    "#!python --version"
   ]
  },
  {
   "cell_type": "code",
   "execution_count": 3,
   "metadata": {},
   "outputs": [],
   "source": [
    "import numpy as np\n",
    "import scipy\n",
    "\n",
    "import cosmolopy\n",
    "import astLib"
   ]
  },
  {
   "cell_type": "markdown",
   "metadata": {},
   "source": [
    "Посавить скобки у print в файлах \\__init__\\.py, setup.py"
   ]
  },
  {
   "cell_type": "code",
   "execution_count": 4,
   "metadata": {},
   "outputs": [
    {
     "name": "stdout",
     "output_type": "stream",
     "text": [
      "running install\n",
      "running bdist_egg\n",
      "running egg_info\n",
      "writing causticpy.egg-info/PKG-INFO\n",
      "writing dependency_links to causticpy.egg-info/dependency_links.txt\n",
      "writing top-level names to causticpy.egg-info/top_level.txt\n",
      "reading manifest file 'causticpy.egg-info/SOURCES.txt'\n",
      "writing manifest file 'causticpy.egg-info/SOURCES.txt'\n",
      "installing library code to build/bdist.linux-x86_64/egg\n",
      "running install_lib\n",
      "running build_py\n",
      "creating build/bdist.linux-x86_64/egg\n",
      "creating build/bdist.linux-x86_64/egg/causticpy\n",
      "copying build/lib/causticpy/__init__.py -> build/bdist.linux-x86_64/egg/causticpy\n",
      "byte-compiling build/bdist.linux-x86_64/egg/causticpy/__init__.py to __init__.cpython-37.pyc\n",
      "creating build/bdist.linux-x86_64/egg/EGG-INFO\n",
      "copying causticpy.egg-info/PKG-INFO -> build/bdist.linux-x86_64/egg/EGG-INFO\n",
      "copying causticpy.egg-info/SOURCES.txt -> build/bdist.linux-x86_64/egg/EGG-INFO\n",
      "copying causticpy.egg-info/dependency_links.txt -> build/bdist.linux-x86_64/egg/EGG-INFO\n",
      "copying causticpy.egg-info/not-zip-safe -> build/bdist.linux-x86_64/egg/EGG-INFO\n",
      "copying causticpy.egg-info/top_level.txt -> build/bdist.linux-x86_64/egg/EGG-INFO\n",
      "creating 'dist/causticpy-0.3-py3.7.egg' and adding 'build/bdist.linux-x86_64/egg' to it\n",
      "removing 'build/bdist.linux-x86_64/egg' (and everything under it)\n",
      "Processing causticpy-0.3-py3.7.egg\n",
      "removing '/home/alex/anaconda3/lib/python3.7/site-packages/causticpy-0.3-py3.7.egg' (and everything under it)\n",
      "creating /home/alex/anaconda3/lib/python3.7/site-packages/causticpy-0.3-py3.7.egg\n",
      "Extracting causticpy-0.3-py3.7.egg to /home/alex/anaconda3/lib/python3.7/site-packages\n",
      "causticpy 0.3 is already the active version in easy-install.pth\n",
      "\n",
      "Installed /home/alex/anaconda3/lib/python3.7/site-packages/causticpy-0.3-py3.7.egg\n",
      "Processing dependencies for causticpy==0.3\n",
      "Finished processing dependencies for causticpy==0.3\n"
     ]
    }
   ],
   "source": [
    "!python 'setup.py' install"
   ]
  },
  {
   "cell_type": "code",
   "execution_count": 5,
   "metadata": {},
   "outputs": [
    {
     "data": {
      "text/plain": [
       "(43425, 7)"
      ]
     },
     "metadata": {},
     "output_type": "display_data"
    },
    {
     "data": {
      "text/plain": [
       "(31506, 15)"
      ]
     },
     "metadata": {},
     "output_type": "display_data"
    },
    {
     "data": {
      "text/plain": [
       "(402439, 8)"
      ]
     },
     "metadata": {},
     "output_type": "display_data"
    },
    {
     "data": {
      "text/plain": [
       "(229893, 16)"
      ]
     },
     "metadata": {},
     "output_type": "display_data"
    },
    {
     "data": {
      "text/html": [
       "<div>\n",
       "<style scoped>\n",
       "    .dataframe tbody tr th:only-of-type {\n",
       "        vertical-align: middle;\n",
       "    }\n",
       "\n",
       "    .dataframe tbody tr th {\n",
       "        vertical-align: top;\n",
       "    }\n",
       "\n",
       "    .dataframe thead th {\n",
       "        text-align: right;\n",
       "    }\n",
       "</style>\n",
       "<table border=\"1\" class=\"dataframe\">\n",
       "  <thead>\n",
       "    <tr style=\"text-align: right;\">\n",
       "      <th></th>\n",
       "      <th>iGalID</th>\n",
       "      <th>iGrID</th>\n",
       "      <th>Name</th>\n",
       "      <th>RAJ2000</th>\n",
       "      <th>DEJ2000</th>\n",
       "      <th>z</th>\n",
       "      <th>logMstar</th>\n",
       "      <th>Dist</th>\n",
       "    </tr>\n",
       "  </thead>\n",
       "  <tbody>\n",
       "    <tr>\n",
       "      <th>0</th>\n",
       "      <td>242970</td>\n",
       "      <td>138964</td>\n",
       "      <td>1237663784217149584</td>\n",
       "      <td>45.074932</td>\n",
       "      <td>0.110856</td>\n",
       "      <td>0.061557</td>\n",
       "      <td>9.54906</td>\n",
       "      <td></td>\n",
       "    </tr>\n",
       "    <tr>\n",
       "      <th>1</th>\n",
       "      <td>240914</td>\n",
       "      <td>137871</td>\n",
       "      <td>1237663784217149588</td>\n",
       "      <td>45.090614</td>\n",
       "      <td>0.136589</td>\n",
       "      <td>0.102016</td>\n",
       "      <td>10.28103</td>\n",
       "      <td></td>\n",
       "    </tr>\n",
       "    <tr>\n",
       "      <th>2</th>\n",
       "      <td>293694</td>\n",
       "      <td>167171</td>\n",
       "      <td>1237666301090202000</td>\n",
       "      <td>45.188526</td>\n",
       "      <td>0.274797</td>\n",
       "      <td>0.101959</td>\n",
       "      <td>NaN</td>\n",
       "      <td></td>\n",
       "    </tr>\n",
       "  </tbody>\n",
       "</table>\n",
       "</div>"
      ],
      "text/plain": [
       "   iGalID   iGrID                 Name    RAJ2000   DEJ2000         z  \\\n",
       "0  242970  138964  1237663784217149584  45.074932  0.110856  0.061557   \n",
       "1  240914  137871  1237663784217149588  45.090614  0.136589  0.102016   \n",
       "2  293694  167171  1237666301090202000  45.188526  0.274797  0.101959   \n",
       "\n",
       "   logMstar Dist  \n",
       "0   9.54906       \n",
       "1  10.28103       \n",
       "2       NaN       "
      ]
     },
     "metadata": {},
     "output_type": "display_data"
    },
    {
     "data": {
      "text/html": [
       "<div>\n",
       "<style scoped>\n",
       "    .dataframe tbody tr th:only-of-type {\n",
       "        vertical-align: middle;\n",
       "    }\n",
       "\n",
       "    .dataframe tbody tr th {\n",
       "        vertical-align: top;\n",
       "    }\n",
       "\n",
       "    .dataframe thead th {\n",
       "        text-align: right;\n",
       "    }\n",
       "</style>\n",
       "<table border=\"1\" class=\"dataframe\">\n",
       "  <thead>\n",
       "    <tr style=\"text-align: right;\">\n",
       "      <th></th>\n",
       "      <th>iGrID</th>\n",
       "      <th>RAJ2000</th>\n",
       "      <th>DEJ2000</th>\n",
       "      <th>z</th>\n",
       "      <th>logLtot</th>\n",
       "      <th>logLobs</th>\n",
       "      <th>logMtot</th>\n",
       "      <th>logMstar</th>\n",
       "      <th>NMstar</th>\n",
       "      <th>logMdyn</th>\n",
       "      <th>sigma</th>\n",
       "      <th>Rad</th>\n",
       "      <th>angRad</th>\n",
       "      <th>DL</th>\n",
       "      <th>Ntot</th>\n",
       "      <th>Dist</th>\n",
       "    </tr>\n",
       "  </thead>\n",
       "  <tbody>\n",
       "    <tr>\n",
       "      <th>0</th>\n",
       "      <td>138964</td>\n",
       "      <td>45.074932</td>\n",
       "      <td>0.110856</td>\n",
       "      <td>0.061557</td>\n",
       "      <td>9.89662</td>\n",
       "      <td>9.80936</td>\n",
       "      <td>11.65186</td>\n",
       "      <td>9.54906</td>\n",
       "      <td>1</td>\n",
       "      <td>NaN</td>\n",
       "      <td>NaN</td>\n",
       "      <td>NaN</td>\n",
       "      <td>NaN</td>\n",
       "      <td>266.1356</td>\n",
       "      <td>1</td>\n",
       "      <td></td>\n",
       "    </tr>\n",
       "    <tr>\n",
       "      <th>1</th>\n",
       "      <td>137871</td>\n",
       "      <td>45.090614</td>\n",
       "      <td>0.136589</td>\n",
       "      <td>0.102016</td>\n",
       "      <td>10.48778</td>\n",
       "      <td>10.26958</td>\n",
       "      <td>12.09710</td>\n",
       "      <td>10.28104</td>\n",
       "      <td>1</td>\n",
       "      <td>NaN</td>\n",
       "      <td>NaN</td>\n",
       "      <td>NaN</td>\n",
       "      <td>NaN</td>\n",
       "      <td>456.4026</td>\n",
       "      <td>1</td>\n",
       "      <td></td>\n",
       "    </tr>\n",
       "    <tr>\n",
       "      <th>2</th>\n",
       "      <td>167171</td>\n",
       "      <td>45.188526</td>\n",
       "      <td>0.274797</td>\n",
       "      <td>0.101959</td>\n",
       "      <td>10.23475</td>\n",
       "      <td>10.01679</td>\n",
       "      <td>11.84485</td>\n",
       "      <td>NaN</td>\n",
       "      <td>0</td>\n",
       "      <td>NaN</td>\n",
       "      <td>NaN</td>\n",
       "      <td>NaN</td>\n",
       "      <td>NaN</td>\n",
       "      <td>456.1262</td>\n",
       "      <td>1</td>\n",
       "      <td></td>\n",
       "    </tr>\n",
       "  </tbody>\n",
       "</table>\n",
       "</div>"
      ],
      "text/plain": [
       "    iGrID    RAJ2000   DEJ2000         z   logLtot   logLobs   logMtot  \\\n",
       "0  138964  45.074932  0.110856  0.061557   9.89662   9.80936  11.65186   \n",
       "1  137871  45.090614  0.136589  0.102016  10.48778  10.26958  12.09710   \n",
       "2  167171  45.188526  0.274797  0.101959  10.23475  10.01679  11.84485   \n",
       "\n",
       "   logMstar  NMstar  logMdyn  sigma  Rad  angRad        DL  Ntot Dist  \n",
       "0   9.54906       1      NaN    NaN  NaN     NaN  266.1356     1       \n",
       "1  10.28104       1      NaN    NaN  NaN     NaN  456.4026     1       \n",
       "2       NaN       0      NaN    NaN  NaN     NaN  456.1262     1       "
      ]
     },
     "metadata": {},
     "output_type": "display_data"
    },
    {
     "name": "stdout",
     "output_type": "stream",
     "text": [
      "DATA SET SIZE 59\n",
      "Pre_r200= 2.9781259001541316\n",
      "Calculating Density w/Mirrored Data\n",
      "Vdisp from galaxies= 2390.0504760712256\n",
      "Combined Vdisp= 2390.0504760712256\n",
      "Calculating initial surface\n",
      "complete\n",
      "DATA SET SIZE 44\n",
      "Pre_r200= 2.945343281795476\n",
      "Calculating Density w/Mirrored Data\n",
      "Vdisp from galaxies= 2303.5417895261544\n",
      "Combined Vdisp= 2303.5417895261544\n",
      "Calculating initial surface\n",
      "complete\n"
     ]
    }
   ],
   "source": [
    "import pandas as pd\n",
    "from causticpy import *\n",
    "\n",
    "ga_2, gr_2 = pd.read_csv('../Data/galist_2.csv'), pd.read_csv('../Data/grlist_2.csv')\n",
    "ga_s, gr_s = pd.read_csv('../Data/galist_s.csv'), pd.read_csv('../Data/grlist_s.csv')\n",
    "display(ga_2.shape, gr_2.shape, ga_s.shape, gr_s.shape)\n",
    "\n",
    "\n",
    "a_cols = ga_s.columns.tolist()\n",
    "r_cols = gr_s.columns.tolist()\n",
    "\n",
    "display(ga_s.head(3))\n",
    "display(gr_s.head(3))\n",
    "\n",
    "# объединение по iGrID\n",
    "g_2, g_s = pd.merge(ga_2, gr_2, on='iGrID'), pd.merge(ga_s, gr_s, on='iGrID')\n",
    "\n",
    "# фильтрация по Ntot\n",
    "g_2, g_s = g_2[g_2.Ntot > 30], g_s[g_s.Ntot > 30]\n",
    "\n",
    "ac = Caustic()\n",
    "rc = Caustic()\n",
    "\n",
    "# первые три признака : ra, dec, z\n",
    "as_good_flag = ac.run_caustic(np.array(ga_s[a_cols[3:6]]))\n",
    "rs_good_flag = rc.run_caustic(np.array(gr_s[r_cols[1:4]]))"
   ]
  },
  {
   "cell_type": "code",
   "execution_count": 6,
   "metadata": {},
   "outputs": [
    {
     "data": {
      "text/plain": [
       "(1, 1)"
      ]
     },
     "execution_count": 6,
     "metadata": {},
     "output_type": "execute_result"
    }
   ],
   "source": [
    "as_good_flag, rs_good_flag"
   ]
  },
  {
   "cell_type": "code",
   "execution_count": 7,
   "metadata": {},
   "outputs": [
    {
     "data": {
      "image/png": "[encoded data removed]",
      "text/plain": [
       "<Figure size 432x288 with 1 Axes>"
      ]
     },
     "metadata": {
      "needs_background": "light"
     },
     "output_type": "display_data"
    },
    {
     "data": {
      "image/png": "[encoded data removed]",
      "text/plain": [
       "<Figure size 432x288 with 1 Axes>"
      ]
     },
     "metadata": {
      "needs_background": "light"
     },
     "output_type": "display_data"
    }
   ],
   "source": [
    "#from pylab import *\n",
    "import  matplotlib.pyplot as plt\n",
    "%matplotlib inline\n",
    "\n",
    "r, v = rc.r, rc.v\n",
    "x_range, caustic_profile = rc.x_range, rc.caustic_profile\n",
    "\n",
    "plt.figure()\n",
    "plt.grid()\n",
    "plt.plot(x_range, caustic_profile, c='r')\n",
    "\n",
    "plt.show();\n",
    "plt.figure()\n",
    "plt.scatter(r, v, c='black')\n",
    "#plt.xlim(0, 2)\n",
    "#plt.ylim(-1500, 1500)\n",
    "plt.show();"
   ]
  },
  {
   "cell_type": "markdown",
   "metadata": {},
   "source": [
    "здесь подсчет для всех данных (нужно сделать для каждой группы отдельно)"
   ]
  }
 ],
 "metadata": {
  "kernelspec": {
   "display_name": "Python 3",
   "language": "python",
   "name": "python3"
  },
  "language_info": {
   "codemirror_mode": {
    "name": "ipython",
    "version": 3
   },
   "file_extension": ".py",
   "mimetype": "text/x-python",
   "name": "python",
   "nbconvert_exporter": "python",
   "pygments_lexer": "ipython3",
   "version": "3.7.3"
  }
 },
 "nbformat": 4,
 "nbformat_minor": 2
}
